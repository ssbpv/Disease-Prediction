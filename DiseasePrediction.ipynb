{
 "cells": [
  {
   "cell_type": "markdown",
   "metadata": {},
   "source": [
    "# Disease prediction forecast\n",
    "\n",
    "## Data from patients was in json. Information included hospital visit dates, ICD and CPT codes along with diagnosis for multiple months and years. Goal was to predict if a patient will develop the disease in 2017 based on the information from all previous years"
   ]
  },
  {
   "cell_type": "code",
   "execution_count": 30,
   "metadata": {
    "collapsed": true
   },
   "outputs": [],
   "source": [
    "%matplotlib inline\n",
    "import pandas as pd\n",
    "import numpy as np\n",
    "import matplotlib.pylab as plt\n",
    "import seaborn as sns\n",
    "\n",
    "from pandas.io.json import json_normalize\n",
    "import json\n",
    "from datetime import datetime\n",
    "\n",
    "from sklearn.model_selection import cross_val_score\n",
    "from sklearn.metrics import accuracy_score, roc_auc_score,roc_curve, auc\n",
    "from sklearn.metrics import confusion_matrix, f1_score, precision_score,recall_score\n",
    "from sklearn.ensemble import RandomForestClassifier\n",
    "from sklearn.model_selection import train_test_split\n",
    "from sklearn.preprocessing import StandardScaler\n",
    "from sklearn.decomposition import PCA\n",
    "from sklearn.pipeline import Pipeline\n",
    "from sklearn.model_selection import GridSearchCV\n",
    "from sklearn.linear_model import LogisticRegression\n",
    "from sklearn.metrics.scorer import make_scorer\n",
    "from sklearn import linear_model, decomposition\n",
    "\n"
   ]
  },
  {
   "cell_type": "markdown",
   "metadata": {},
   "source": [
    "# 1. Experimental setup/design"
   ]
  },
  {
   "cell_type": "code",
   "execution_count": 32,
   "metadata": {},
   "outputs": [
    {
     "data": {
      "text/plain": [
       "73597"
      ]
     },
     "execution_count": 32,
     "metadata": {},
     "output_type": "execute_result"
    }
   ],
   "source": [
    "# load data from local folder\n",
    "ls = []\n",
    "with open('train.txt') as f:\n",
    "    for line in f:\n",
    "        ls.append(json.loads(line))\n",
    "len(ls)"
   ]
  },
  {
   "cell_type": "markdown",
   "metadata": {},
   "source": [
    "## Extract demographic information from all patients to dataframe"
   ]
  },
  {
   "cell_type": "code",
   "execution_count": 33,
   "metadata": {
    "collapsed": true
   },
   "outputs": [],
   "source": [
    "df_ptid=[]\n",
    "for i in range(len(ls)):\n",
    "    each_row=ls[i]['patient_id']\n",
    "    df_ptid.append(each_row)\n",
    "\n",
    "df_ptid=pd.DataFrame(df_ptid)\n",
    "\n",
    "\n",
    "df_bday=[]\n",
    "for i in range(len(ls)):\n",
    "    each_row=ls[i]['bday']\n",
    "    df_bday.append(each_row)\n",
    "\n",
    "df_bday=pd.DataFrame(df_bday)\n",
    "\n",
    "\n",
    "df_Gen=[]\n",
    "for i in range(len(ls)):\n",
    "    each_row=ls[i]['is_male']\n",
    "    df_Gen.append(each_row)\n",
    "\n",
    "df_Gen=pd.DataFrame(df_Gen) \n",
    "\n",
    "\n",
    "df_DM=[]\n",
    "for i in range(len(ls)):\n",
    "    each_row=ls[i]['tag_dm2']\n",
    "    df_DM.append(each_row)\n",
    "    \n",
    "df_DM=pd.DataFrame(df_DM)    \n",
    "\n",
    "df_id_bday_Gen_DM = pd.concat([df_ptid,df_bday,df_Gen,df_DM], axis=1, join_axes=[df_ptid.index])\n",
    "df_id_bday_Gen_DM.columns=['ptID','bday','Gender','DM']\n",
    "\n"
   ]
  },
  {
   "cell_type": "code",
   "execution_count": 34,
   "metadata": {},
   "outputs": [
    {
     "data": {
      "text/plain": [
       "73597"
      ]
     },
     "execution_count": 34,
     "metadata": {},
     "output_type": "execute_result"
    }
   ],
   "source": [
    "len(df_id_bday_Gen_DM['ptID'].unique()) # check for duplication patient ids"
   ]
  },
  {
   "cell_type": "code",
   "execution_count": 36,
   "metadata": {
    "scrolled": true
   },
   "outputs": [
    {
     "data": {
      "text/plain": [
       "ptID      False\n",
       "bday      False\n",
       "Gender    False\n",
       "DM        False\n",
       "dtype: bool"
      ]
     },
     "execution_count": 36,
     "metadata": {},
     "output_type": "execute_result"
    }
   ],
   "source": [
    "df_id_bday_Gen_DM.isnull().any() # check for missing data\n"
   ]
  },
  {
   "cell_type": "code",
   "execution_count": 37,
   "metadata": {},
   "outputs": [
    {
     "name": "stdout",
     "output_type": "stream",
     "text": [
      "<class 'pandas.core.frame.DataFrame'>\n",
      "RangeIndex: 73597 entries, 0 to 73596\n",
      "Data columns (total 4 columns):\n",
      "ptID      73597 non-null object\n",
      "bday      73597 non-null object\n",
      "Gender    73597 non-null bool\n",
      "DM        73597 non-null object\n",
      "dtypes: bool(1), object(3)\n",
      "memory usage: 1.8+ MB\n"
     ]
    }
   ],
   "source": [
    "df_id_bday_Gen_DM.info()"
   ]
  },
  {
   "cell_type": "code",
   "execution_count": 38,
   "metadata": {
    "collapsed": true
   },
   "outputs": [],
   "source": [
    "# convert columns values to numerics\n",
    "df_id_bday_Gen_DM['ptID'] = df_id_bday_Gen_DM['ptID'].str.replace('pat_','')\n",
    "df_id_bday_Gen_DM['ptID']= pd.to_numeric(df_id_bday_Gen_DM['ptID'])\n",
    "\n",
    "df_id_bday_Gen_DM['Gender']*=1"
   ]
  },
  {
   "cell_type": "code",
   "execution_count": 39,
   "metadata": {
    "collapsed": true
   },
   "outputs": [],
   "source": [
    "# compute age of patients\n",
    "df_id_bday_Gen_DM['bday']=pd.to_datetime(df_id_bday_Gen_DM['bday'])\n",
    "df_id_bday_Gen_DM['DM']=pd.to_datetime(df_id_bday_Gen_DM['DM'])\n",
    "now = datetime.now()\n",
    "df_id_bday_Gen_DM['age'] = (now - df_id_bday_Gen_DM['bday']).astype('<m8[Y]')\n",
    "df_id_bday_Gen_DM['age']=df_id_bday_Gen_DM['age'].astype(int)"
   ]
  },
  {
   "cell_type": "code",
   "execution_count": 40,
   "metadata": {},
   "outputs": [
    {
     "data": {
      "text/plain": [
       " 0    70110\n",
       " 1     3410\n",
       "-1       77\n",
       "Name: claim, dtype: int64"
      ]
     },
     "execution_count": 40,
     "metadata": {},
     "output_type": "execute_result"
    }
   ],
   "source": [
    "# create patient cohort\n",
    "claim=[0]*len(df_id_bday_Gen_DM['DM'])\n",
    "for tag in range(len(df_id_bday_Gen_DM['DM'])):\n",
    "    if df_id_bday_Gen_DM['DM'][tag].year ==2017:\n",
    "        claim[tag]= 1\n",
    "    elif df_id_bday_Gen_DM['DM'][tag].year == 2013 or df_id_bday_Gen_DM['DM'][tag].year == 2014 or df_id_bday_Gen_DM['DM'][tag].year == 2015 or df_id_bday_Gen_DM['DM'][tag].year == 2016:\n",
    "        claim[tag]= -1\n",
    "\n",
    "claim=pd.DataFrame(claim)     \n",
    "\n",
    "df_id_bday_Gen_DM ['claim']=claim\n",
    "df_id_bday_Gen_DM['claim'].value_counts()"
   ]
  },
  {
   "cell_type": "code",
   "execution_count": 41,
   "metadata": {
    "scrolled": true
   },
   "outputs": [
    {
     "data": {
      "text/html": [
       "<div>\n",
       "<style>\n",
       "    .dataframe thead tr:only-child th {\n",
       "        text-align: right;\n",
       "    }\n",
       "\n",
       "    .dataframe thead th {\n",
       "        text-align: left;\n",
       "    }\n",
       "\n",
       "    .dataframe tbody tr th {\n",
       "        vertical-align: top;\n",
       "    }\n",
       "</style>\n",
       "<table border=\"1\" class=\"dataframe\">\n",
       "  <thead>\n",
       "    <tr style=\"text-align: right;\">\n",
       "      <th></th>\n",
       "      <th>ptID</th>\n",
       "      <th>Gender</th>\n",
       "      <th>age</th>\n",
       "      <th>claim</th>\n",
       "    </tr>\n",
       "  </thead>\n",
       "  <tbody>\n",
       "    <tr>\n",
       "      <th>0</th>\n",
       "      <td>0</td>\n",
       "      <td>0</td>\n",
       "      <td>58</td>\n",
       "      <td>0</td>\n",
       "    </tr>\n",
       "    <tr>\n",
       "      <th>1</th>\n",
       "      <td>3</td>\n",
       "      <td>0</td>\n",
       "      <td>15</td>\n",
       "      <td>0</td>\n",
       "    </tr>\n",
       "    <tr>\n",
       "      <th>2</th>\n",
       "      <td>5</td>\n",
       "      <td>0</td>\n",
       "      <td>29</td>\n",
       "      <td>0</td>\n",
       "    </tr>\n",
       "    <tr>\n",
       "      <th>3</th>\n",
       "      <td>6</td>\n",
       "      <td>0</td>\n",
       "      <td>60</td>\n",
       "      <td>0</td>\n",
       "    </tr>\n",
       "    <tr>\n",
       "      <th>4</th>\n",
       "      <td>7</td>\n",
       "      <td>0</td>\n",
       "      <td>24</td>\n",
       "      <td>0</td>\n",
       "    </tr>\n",
       "  </tbody>\n",
       "</table>\n",
       "</div>"
      ],
      "text/plain": [
       "   ptID  Gender  age  claim\n",
       "0     0       0   58      0\n",
       "1     3       0   15      0\n",
       "2     5       0   29      0\n",
       "3     6       0   60      0\n",
       "4     7       0   24      0"
      ]
     },
     "execution_count": 41,
     "metadata": {},
     "output_type": "execute_result"
    }
   ],
   "source": [
    "df_SUMM_0=df_id_bday_Gen_DM.drop(['bday','DM'], axis=1)\n",
    "df_SUMM_0.head()\n",
    "#df_SUMM_0.to_csv('SUMM_0.csv')"
   ]
  },
  {
   "cell_type": "markdown",
   "metadata": {},
   "source": [
    "## Find unique observations for each patient in dataframe:\n",
    "   ### no interpretation = -1, Normal = 0, Abnormal = 1, Low 'L' = 3, High 'H' = 5"
   ]
  },
  {
   "cell_type": "code",
   "execution_count": 42,
   "metadata": {},
   "outputs": [
    {
     "name": "stdout",
     "output_type": "stream",
     "text": [
      "            code\n",
      "0  loinc_13457-7\n",
      "1   loinc_1742-6\n",
      "2   loinc_1751-7\n",
      "3   loinc_1759-0\n",
      "4  loinc_17861-6\n",
      "(4169499, 1)\n",
      "         obs_unq\n",
      "0  loinc_13457-7\n",
      "1   loinc_1742-6\n",
      "2   loinc_1751-7\n",
      "3   loinc_1759-0\n",
      "4  loinc_17861-6\n",
      "(3913, 1)\n"
     ]
    }
   ],
   "source": [
    "nPatients = len(ls)\n",
    "df_OBS = []\n",
    "for i in range(nPatients):\n",
    "    for key1, value1 in ls[i]['observations'].items():\n",
    "        for j in range(len(value1)):\n",
    "            if value1[j]['code']:\n",
    "                df_OBS.append(value1[j]['code'])\n",
    "\n",
    "df_OBS = pd.DataFrame(df_OBS, columns=['code'])\n",
    "print(df_OBS.head(5))\n",
    "print(df_OBS.shape)\n",
    "\n",
    "codes_unq = pd.DataFrame(df_OBS['code'].unique())\n",
    "codes_unq.columns = ['obs_unq']\n",
    "print(codes_unq.head(5))\n",
    "print(codes_unq.shape)"
   ]
  },
  {
   "cell_type": "code",
   "execution_count": 43,
   "metadata": {},
   "outputs": [
    {
     "name": "stdout",
     "output_type": "stream",
     "text": [
      "(73597, 3913)\n"
     ]
    }
   ],
   "source": [
    "ls_OBS_codes_unq = codes_unq['obs_unq'].tolist()\n",
    "\n",
    "temparr1 = -1*np.ones(shape=(nPatients,len(ls_OBS_codes_unq)))\n",
    "df_SUMM_1 = pd.DataFrame(temparr1,index=range(0,nPatients),columns=ls_OBS_codes_unq)\n",
    "\n",
    "for i in range(nPatients):\n",
    "    for key1, value1 in ls[i]['observations'].items():\n",
    "        for j in range(len(value1)):\n",
    "            if value1[j]['code']:\n",
    "                if value1[j]['interpretation'] == 'N':\n",
    "                    df_SUMM_1.set_value(i, value1[j]['code'], 0)\n",
    "                elif value1[j]['interpretation'] == 'A':\n",
    "                    df_SUMM_1.set_value(i, value1[j]['code'], 1)\n",
    "                elif value1[j]['interpretation'] == 'L':\n",
    "                    df_SUMM_1.set_value(i, value1[j]['code'], 3)\n",
    "                elif value1[j]['interpretation'] == 'H':\n",
    "                    df_SUMM_1.set_value(i, value1[j]['code'], 5)\n",
    "\n",
    "print(df_SUMM_1.shape)\n",
    "#df_SUMM_1.to_csv('SUMM_1.csv')"
   ]
  },
  {
   "cell_type": "markdown",
   "metadata": {},
   "source": [
    "## Find unique resources for each patient in dataframe:\n",
    "   ### no codes = 0, Diagnosis = 1. I have grouped all diseases to their root code by removing the numbers after decimals to reduce the number of columns and hence feature vectors. Ideally given computing resources I would have liked to remove the redundant diagnosis codes between ICD9, ICD10 and CPT with cohorts"
   ]
  },
  {
   "cell_type": "code",
   "execution_count": 44,
   "metadata": {
    "scrolled": true
   },
   "outputs": [
    {
     "name": "stdout",
     "output_type": "stream",
     "text": [
      "(11112574, 1)\n",
      "       res_unq\n",
      "0    cpt_99213\n",
      "1  icd9_V85.23\n",
      "2    cpt_87210\n",
      "3  icd9_789.03\n",
      "4    cpt_87591\n",
      "(39337, 1)\n",
      "     res_unq\n",
      "0  cpt_99213\n",
      "1   icd9_V85\n",
      "2  cpt_87210\n",
      "3   icd9_789\n",
      "4  cpt_87591\n",
      "(11255, 1)\n"
     ]
    }
   ],
   "source": [
    "nPatients = len(ls)\n",
    "df_RES = []\n",
    "for i in range(nPatients):\n",
    "    for key1, value1 in ls[i]['resources'].items():        \n",
    "        for j in range(len(value1)): \n",
    "            if value1[j]:\n",
    "                df_RES.append(value1[j])\n",
    "\n",
    "df_RES = pd.DataFrame(df_RES, columns=['diag_codes'])\n",
    "print(df_RES.shape)\n",
    "\n",
    "dcodes_unq = pd.DataFrame(df_RES['diag_codes'].unique())\n",
    "dcodes_unq.columns = ['res_unq']\n",
    "print(dcodes_unq.head(5))\n",
    "print(dcodes_unq.shape)\n",
    "\n",
    "dcodes_unq = dcodes_unq['res_unq'].str.split('.', expand=True)\n",
    "dcodes_unq.columns = ['a','b']\n",
    "dcodes_unq = pd.DataFrame(dcodes_unq['a'].unique())\n",
    "dcodes_unq.columns = ['res_unq']\n",
    "\n",
    "print(dcodes_unq.head(5))\n",
    "print(dcodes_unq.shape)\n"
   ]
  },
  {
   "cell_type": "code",
   "execution_count": 45,
   "metadata": {},
   "outputs": [
    {
     "name": "stdout",
     "output_type": "stream",
     "text": [
      "(73597, 11255)\n"
     ]
    }
   ],
   "source": [
    "ls_RES_codes_unq = dcodes_unq['res_unq'].tolist()\n",
    "\n",
    "\n",
    "temparr2 = np.zeros(shape=(nPatients,len(ls_RES_codes_unq)))\n",
    "df_SUMM_2 = pd.DataFrame(temparr2, index=range(0,nPatients), columns=ls_RES_codes_unq)\n",
    "\n",
    "for i in range(nPatients):\n",
    "    for key1, value1 in ls[i]['resources'].items():\n",
    "        for j in range(len(value1)):\n",
    "            if value1[j]:\n",
    "                splitval=value1[j].split(\".\")\n",
    "                df_SUMM_2.set_value(i, splitval[0], 1)\n",
    "\n",
    "print(df_SUMM_2.shape)\n",
    "#df_SUMM_2.to_csv('SUMM_2.csv')"
   ]
  },
  {
   "cell_type": "markdown",
   "metadata": {},
   "source": [
    "## I had to use only first 10000 data points as I do not have enough memory to run the entire dataset (I had to save into csv and run in a different kernel because I didnt have enough memory)"
   ]
  },
  {
   "cell_type": "code",
   "execution_count": 2,
   "metadata": {
    "collapsed": true
   },
   "outputs": [],
   "source": [
    "df_SUMM_0 = pd.read_csv('SUMM_0.csv', nrows = 10000)\n",
    "df_SUMM_1 = pd.read_csv('SUMM_1.csv', nrows = 10000)\n",
    "df_SUMM_2 = pd.read_csv('SUMM_2.csv', nrows = 10000)\n",
    "\n",
    "\n",
    "df_all=pd.concat([df_SUMM_0,df_SUMM_1,df_SUMM_2], axis=1, join_axes=[df_SUMM_0.index])"
   ]
  },
  {
   "cell_type": "markdown",
   "metadata": {},
   "source": [
    "### Remove the prior cohort"
   ]
  },
  {
   "cell_type": "code",
   "execution_count": 3,
   "metadata": {
    "collapsed": true
   },
   "outputs": [],
   "source": [
    "df=df_all.loc[df_all['claim'] != -1]"
   ]
  },
  {
   "cell_type": "code",
   "execution_count": 4,
   "metadata": {},
   "outputs": [
    {
     "data": {
      "text/html": [
       "<div>\n",
       "<style>\n",
       "    .dataframe thead tr:only-child th {\n",
       "        text-align: right;\n",
       "    }\n",
       "\n",
       "    .dataframe thead th {\n",
       "        text-align: left;\n",
       "    }\n",
       "\n",
       "    .dataframe tbody tr th {\n",
       "        vertical-align: top;\n",
       "    }\n",
       "</style>\n",
       "<table border=\"1\" class=\"dataframe\">\n",
       "  <thead>\n",
       "    <tr style=\"text-align: right;\">\n",
       "      <th></th>\n",
       "      <th>Unnamed: 0</th>\n",
       "      <th>ptID</th>\n",
       "      <th>Gender</th>\n",
       "      <th>age</th>\n",
       "      <th>claim</th>\n",
       "      <th>Unnamed: 0</th>\n",
       "      <th>loinc_13457-7</th>\n",
       "      <th>loinc_1742-6</th>\n",
       "      <th>loinc_1751-7</th>\n",
       "      <th>loinc_1759-0</th>\n",
       "      <th>...</th>\n",
       "      <th>cpt_G0282</th>\n",
       "      <th>cpt_61597</th>\n",
       "      <th>cpt_93750</th>\n",
       "      <th>cpt_33979</th>\n",
       "      <th>cpt_K0037</th>\n",
       "      <th>cpt_A0432</th>\n",
       "      <th>cpt_59020</th>\n",
       "      <th>cpt_E0958</th>\n",
       "      <th>icd9_828</th>\n",
       "      <th>cpt_44660</th>\n",
       "    </tr>\n",
       "  </thead>\n",
       "  <tbody>\n",
       "    <tr>\n",
       "      <th>0</th>\n",
       "      <td>0</td>\n",
       "      <td>0</td>\n",
       "      <td>0</td>\n",
       "      <td>58</td>\n",
       "      <td>0</td>\n",
       "      <td>0</td>\n",
       "      <td>0.0</td>\n",
       "      <td>0.0</td>\n",
       "      <td>3.0</td>\n",
       "      <td>0.0</td>\n",
       "      <td>...</td>\n",
       "      <td>0.0</td>\n",
       "      <td>0.0</td>\n",
       "      <td>0.0</td>\n",
       "      <td>0.0</td>\n",
       "      <td>0.0</td>\n",
       "      <td>0.0</td>\n",
       "      <td>0.0</td>\n",
       "      <td>0.0</td>\n",
       "      <td>0.0</td>\n",
       "      <td>0.0</td>\n",
       "    </tr>\n",
       "    <tr>\n",
       "      <th>1</th>\n",
       "      <td>1</td>\n",
       "      <td>3</td>\n",
       "      <td>0</td>\n",
       "      <td>15</td>\n",
       "      <td>0</td>\n",
       "      <td>1</td>\n",
       "      <td>-1.0</td>\n",
       "      <td>-1.0</td>\n",
       "      <td>-1.0</td>\n",
       "      <td>-1.0</td>\n",
       "      <td>...</td>\n",
       "      <td>0.0</td>\n",
       "      <td>0.0</td>\n",
       "      <td>0.0</td>\n",
       "      <td>0.0</td>\n",
       "      <td>0.0</td>\n",
       "      <td>0.0</td>\n",
       "      <td>0.0</td>\n",
       "      <td>0.0</td>\n",
       "      <td>0.0</td>\n",
       "      <td>0.0</td>\n",
       "    </tr>\n",
       "    <tr>\n",
       "      <th>2</th>\n",
       "      <td>2</td>\n",
       "      <td>5</td>\n",
       "      <td>0</td>\n",
       "      <td>29</td>\n",
       "      <td>0</td>\n",
       "      <td>2</td>\n",
       "      <td>0.0</td>\n",
       "      <td>-1.0</td>\n",
       "      <td>-1.0</td>\n",
       "      <td>3.0</td>\n",
       "      <td>...</td>\n",
       "      <td>0.0</td>\n",
       "      <td>0.0</td>\n",
       "      <td>0.0</td>\n",
       "      <td>0.0</td>\n",
       "      <td>0.0</td>\n",
       "      <td>0.0</td>\n",
       "      <td>0.0</td>\n",
       "      <td>0.0</td>\n",
       "      <td>0.0</td>\n",
       "      <td>0.0</td>\n",
       "    </tr>\n",
       "    <tr>\n",
       "      <th>3</th>\n",
       "      <td>3</td>\n",
       "      <td>6</td>\n",
       "      <td>0</td>\n",
       "      <td>60</td>\n",
       "      <td>0</td>\n",
       "      <td>3</td>\n",
       "      <td>-1.0</td>\n",
       "      <td>-1.0</td>\n",
       "      <td>-1.0</td>\n",
       "      <td>-1.0</td>\n",
       "      <td>...</td>\n",
       "      <td>0.0</td>\n",
       "      <td>0.0</td>\n",
       "      <td>0.0</td>\n",
       "      <td>0.0</td>\n",
       "      <td>0.0</td>\n",
       "      <td>0.0</td>\n",
       "      <td>0.0</td>\n",
       "      <td>0.0</td>\n",
       "      <td>0.0</td>\n",
       "      <td>0.0</td>\n",
       "    </tr>\n",
       "    <tr>\n",
       "      <th>4</th>\n",
       "      <td>4</td>\n",
       "      <td>7</td>\n",
       "      <td>0</td>\n",
       "      <td>24</td>\n",
       "      <td>0</td>\n",
       "      <td>4</td>\n",
       "      <td>0.0</td>\n",
       "      <td>0.0</td>\n",
       "      <td>0.0</td>\n",
       "      <td>0.0</td>\n",
       "      <td>...</td>\n",
       "      <td>0.0</td>\n",
       "      <td>0.0</td>\n",
       "      <td>0.0</td>\n",
       "      <td>0.0</td>\n",
       "      <td>0.0</td>\n",
       "      <td>0.0</td>\n",
       "      <td>0.0</td>\n",
       "      <td>0.0</td>\n",
       "      <td>0.0</td>\n",
       "      <td>0.0</td>\n",
       "    </tr>\n",
       "  </tbody>\n",
       "</table>\n",
       "<p>5 rows × 15175 columns</p>\n",
       "</div>"
      ],
      "text/plain": [
       "   Unnamed: 0  ptID  Gender  age  claim  Unnamed: 0  loinc_13457-7  \\\n",
       "0           0     0       0   58      0           0            0.0   \n",
       "1           1     3       0   15      0           1           -1.0   \n",
       "2           2     5       0   29      0           2            0.0   \n",
       "3           3     6       0   60      0           3           -1.0   \n",
       "4           4     7       0   24      0           4            0.0   \n",
       "\n",
       "   loinc_1742-6  loinc_1751-7  loinc_1759-0    ...      cpt_G0282  cpt_61597  \\\n",
       "0           0.0           3.0           0.0    ...            0.0        0.0   \n",
       "1          -1.0          -1.0          -1.0    ...            0.0        0.0   \n",
       "2          -1.0          -1.0           3.0    ...            0.0        0.0   \n",
       "3          -1.0          -1.0          -1.0    ...            0.0        0.0   \n",
       "4           0.0           0.0           0.0    ...            0.0        0.0   \n",
       "\n",
       "   cpt_93750  cpt_33979  cpt_K0037  cpt_A0432  cpt_59020  cpt_E0958  icd9_828  \\\n",
       "0        0.0        0.0        0.0        0.0        0.0        0.0       0.0   \n",
       "1        0.0        0.0        0.0        0.0        0.0        0.0       0.0   \n",
       "2        0.0        0.0        0.0        0.0        0.0        0.0       0.0   \n",
       "3        0.0        0.0        0.0        0.0        0.0        0.0       0.0   \n",
       "4        0.0        0.0        0.0        0.0        0.0        0.0       0.0   \n",
       "\n",
       "   cpt_44660  \n",
       "0        0.0  \n",
       "1        0.0  \n",
       "2        0.0  \n",
       "3        0.0  \n",
       "4        0.0  \n",
       "\n",
       "[5 rows x 15175 columns]"
      ]
     },
     "execution_count": 4,
     "metadata": {},
     "output_type": "execute_result"
    }
   ],
   "source": [
    "del df_all, df_SUMM_0, df_SUMM_1, df_SUMM_2\n",
    "df.head()"
   ]
  },
  {
   "cell_type": "code",
   "execution_count": 5,
   "metadata": {},
   "outputs": [
    {
     "data": {
      "text/html": [
       "<div>\n",
       "<style>\n",
       "    .dataframe thead tr:only-child th {\n",
       "        text-align: right;\n",
       "    }\n",
       "\n",
       "    .dataframe thead th {\n",
       "        text-align: left;\n",
       "    }\n",
       "\n",
       "    .dataframe tbody tr th {\n",
       "        vertical-align: top;\n",
       "    }\n",
       "</style>\n",
       "<table border=\"1\" class=\"dataframe\">\n",
       "  <thead>\n",
       "    <tr style=\"text-align: right;\">\n",
       "      <th></th>\n",
       "      <th>ptID</th>\n",
       "      <th>Gender</th>\n",
       "      <th>age</th>\n",
       "      <th>loinc_13457-7</th>\n",
       "      <th>loinc_1742-6</th>\n",
       "      <th>loinc_1751-7</th>\n",
       "      <th>loinc_1759-0</th>\n",
       "      <th>loinc_17861-6</th>\n",
       "      <th>loinc_1920-8</th>\n",
       "      <th>loinc_1975-2</th>\n",
       "      <th>...</th>\n",
       "      <th>cpt_G0282</th>\n",
       "      <th>cpt_61597</th>\n",
       "      <th>cpt_93750</th>\n",
       "      <th>cpt_33979</th>\n",
       "      <th>cpt_K0037</th>\n",
       "      <th>cpt_A0432</th>\n",
       "      <th>cpt_59020</th>\n",
       "      <th>cpt_E0958</th>\n",
       "      <th>icd9_828</th>\n",
       "      <th>cpt_44660</th>\n",
       "    </tr>\n",
       "  </thead>\n",
       "  <tbody>\n",
       "    <tr>\n",
       "      <th>0</th>\n",
       "      <td>0</td>\n",
       "      <td>0</td>\n",
       "      <td>58</td>\n",
       "      <td>0.0</td>\n",
       "      <td>0.0</td>\n",
       "      <td>3.0</td>\n",
       "      <td>0.0</td>\n",
       "      <td>0.0</td>\n",
       "      <td>0.0</td>\n",
       "      <td>3.0</td>\n",
       "      <td>...</td>\n",
       "      <td>0.0</td>\n",
       "      <td>0.0</td>\n",
       "      <td>0.0</td>\n",
       "      <td>0.0</td>\n",
       "      <td>0.0</td>\n",
       "      <td>0.0</td>\n",
       "      <td>0.0</td>\n",
       "      <td>0.0</td>\n",
       "      <td>0.0</td>\n",
       "      <td>0.0</td>\n",
       "    </tr>\n",
       "    <tr>\n",
       "      <th>1</th>\n",
       "      <td>3</td>\n",
       "      <td>0</td>\n",
       "      <td>15</td>\n",
       "      <td>-1.0</td>\n",
       "      <td>-1.0</td>\n",
       "      <td>-1.0</td>\n",
       "      <td>-1.0</td>\n",
       "      <td>-1.0</td>\n",
       "      <td>-1.0</td>\n",
       "      <td>-1.0</td>\n",
       "      <td>...</td>\n",
       "      <td>0.0</td>\n",
       "      <td>0.0</td>\n",
       "      <td>0.0</td>\n",
       "      <td>0.0</td>\n",
       "      <td>0.0</td>\n",
       "      <td>0.0</td>\n",
       "      <td>0.0</td>\n",
       "      <td>0.0</td>\n",
       "      <td>0.0</td>\n",
       "      <td>0.0</td>\n",
       "    </tr>\n",
       "    <tr>\n",
       "      <th>2</th>\n",
       "      <td>5</td>\n",
       "      <td>0</td>\n",
       "      <td>29</td>\n",
       "      <td>0.0</td>\n",
       "      <td>-1.0</td>\n",
       "      <td>-1.0</td>\n",
       "      <td>3.0</td>\n",
       "      <td>3.0</td>\n",
       "      <td>-1.0</td>\n",
       "      <td>3.0</td>\n",
       "      <td>...</td>\n",
       "      <td>0.0</td>\n",
       "      <td>0.0</td>\n",
       "      <td>0.0</td>\n",
       "      <td>0.0</td>\n",
       "      <td>0.0</td>\n",
       "      <td>0.0</td>\n",
       "      <td>0.0</td>\n",
       "      <td>0.0</td>\n",
       "      <td>0.0</td>\n",
       "      <td>0.0</td>\n",
       "    </tr>\n",
       "    <tr>\n",
       "      <th>3</th>\n",
       "      <td>6</td>\n",
       "      <td>0</td>\n",
       "      <td>60</td>\n",
       "      <td>-1.0</td>\n",
       "      <td>-1.0</td>\n",
       "      <td>-1.0</td>\n",
       "      <td>-1.0</td>\n",
       "      <td>-1.0</td>\n",
       "      <td>-1.0</td>\n",
       "      <td>-1.0</td>\n",
       "      <td>...</td>\n",
       "      <td>0.0</td>\n",
       "      <td>0.0</td>\n",
       "      <td>0.0</td>\n",
       "      <td>0.0</td>\n",
       "      <td>0.0</td>\n",
       "      <td>0.0</td>\n",
       "      <td>0.0</td>\n",
       "      <td>0.0</td>\n",
       "      <td>0.0</td>\n",
       "      <td>0.0</td>\n",
       "    </tr>\n",
       "    <tr>\n",
       "      <th>4</th>\n",
       "      <td>7</td>\n",
       "      <td>0</td>\n",
       "      <td>24</td>\n",
       "      <td>0.0</td>\n",
       "      <td>0.0</td>\n",
       "      <td>0.0</td>\n",
       "      <td>0.0</td>\n",
       "      <td>0.0</td>\n",
       "      <td>0.0</td>\n",
       "      <td>3.0</td>\n",
       "      <td>...</td>\n",
       "      <td>0.0</td>\n",
       "      <td>0.0</td>\n",
       "      <td>0.0</td>\n",
       "      <td>0.0</td>\n",
       "      <td>0.0</td>\n",
       "      <td>0.0</td>\n",
       "      <td>0.0</td>\n",
       "      <td>0.0</td>\n",
       "      <td>0.0</td>\n",
       "      <td>0.0</td>\n",
       "    </tr>\n",
       "  </tbody>\n",
       "</table>\n",
       "<p>5 rows × 15171 columns</p>\n",
       "</div>"
      ],
      "text/plain": [
       "   ptID  Gender  age  loinc_13457-7  loinc_1742-6  loinc_1751-7  loinc_1759-0  \\\n",
       "0     0       0   58            0.0           0.0           3.0           0.0   \n",
       "1     3       0   15           -1.0          -1.0          -1.0          -1.0   \n",
       "2     5       0   29            0.0          -1.0          -1.0           3.0   \n",
       "3     6       0   60           -1.0          -1.0          -1.0          -1.0   \n",
       "4     7       0   24            0.0           0.0           0.0           0.0   \n",
       "\n",
       "   loinc_17861-6  loinc_1920-8  loinc_1975-2    ...      cpt_G0282  cpt_61597  \\\n",
       "0            0.0           0.0           3.0    ...            0.0        0.0   \n",
       "1           -1.0          -1.0          -1.0    ...            0.0        0.0   \n",
       "2            3.0          -1.0           3.0    ...            0.0        0.0   \n",
       "3           -1.0          -1.0          -1.0    ...            0.0        0.0   \n",
       "4            0.0           0.0           3.0    ...            0.0        0.0   \n",
       "\n",
       "   cpt_93750  cpt_33979  cpt_K0037  cpt_A0432  cpt_59020  cpt_E0958  icd9_828  \\\n",
       "0        0.0        0.0        0.0        0.0        0.0        0.0       0.0   \n",
       "1        0.0        0.0        0.0        0.0        0.0        0.0       0.0   \n",
       "2        0.0        0.0        0.0        0.0        0.0        0.0       0.0   \n",
       "3        0.0        0.0        0.0        0.0        0.0        0.0       0.0   \n",
       "4        0.0        0.0        0.0        0.0        0.0        0.0       0.0   \n",
       "\n",
       "   cpt_44660  \n",
       "0        0.0  \n",
       "1        0.0  \n",
       "2        0.0  \n",
       "3        0.0  \n",
       "4        0.0  \n",
       "\n",
       "[5 rows x 15171 columns]"
      ]
     },
     "execution_count": 5,
     "metadata": {},
     "output_type": "execute_result"
    }
   ],
   "source": [
    "X=df.drop(['claim','Unnamed: 0'], axis=1)\n",
    "X.head()"
   ]
  },
  {
   "cell_type": "code",
   "execution_count": 6,
   "metadata": {
    "collapsed": true
   },
   "outputs": [],
   "source": [
    "y=df[['claim']].values.ravel()\n",
    "del df"
   ]
  },
  {
   "cell_type": "markdown",
   "metadata": {},
   "source": [
    "## I split the training set to check for the performance metrics of my predictive algorithm"
   ]
  },
  {
   "cell_type": "code",
   "execution_count": 7,
   "metadata": {
    "collapsed": true
   },
   "outputs": [],
   "source": [
    "X_train, X_test,y_train,y_test = train_test_split(X,y,test_size=0.2,random_state=0,stratify=y)\n"
   ]
  },
  {
   "cell_type": "markdown",
   "metadata": {},
   "source": [
    "## Check for correlated features"
   ]
  },
  {
   "cell_type": "code",
   "execution_count": null,
   "metadata": {
    "collapsed": true
   },
   "outputs": [],
   "source": [
    "# Compute the correlation matrix\n",
    "corr = X.corr()\n",
    "\n",
    "# Generate a mask for the upper triangle\n",
    "mask = np.zeros_like(corr, dtype=np.bool)\n",
    "mask[np.triu_indices_from(mask)] = True\n",
    "\n",
    "# Set up the matplotlib figure\n",
    "f, ax = plt.subplots(figsize=(11, 9))\n",
    "\n",
    "# Generate a custom diverging colormap\n",
    "cmap = sns.diverging_palette(220, 10, as_cmap=True)\n",
    "\n",
    "# Draw the heatmap with the mask and correct aspect ratio\n",
    "sns.heatmap(corr, mask=mask, cmap=cmap, vmax=.3, center=0,\n",
    "            square=True, linewidths=.5, cbar_kws={\"shrink\": .5})"
   ]
  },
  {
   "cell_type": "markdown",
   "metadata": {},
   "source": [
    "# 2. Feature design/feature selection"
   ]
  },
  {
   "cell_type": "markdown",
   "metadata": {},
   "source": [
    "## Standardize the training data"
   ]
  },
  {
   "cell_type": "code",
   "execution_count": 9,
   "metadata": {
    "collapsed": true
   },
   "outputs": [],
   "source": [
    "from sklearn.preprocessing import StandardScaler\n",
    "scaler = StandardScaler()\n",
    "X_train_standard = scaler.fit_transform(X_train)"
   ]
  },
  {
   "cell_type": "markdown",
   "metadata": {},
   "source": [
    "## Reduce number of features from 15171 columns using PCA\n",
    "### I ran a pipeline to estimate the best components for PCA with logistic regression"
   ]
  },
  {
   "cell_type": "code",
   "execution_count": 10,
   "metadata": {},
   "outputs": [
    {
     "data": {
      "image/png": "[encoded data removed]",
      "text/plain": [
       "<matplotlib.figure.Figure at 0x1f8ad0645c0>"
      ]
     },
     "metadata": {},
     "output_type": "display_data"
    }
   ],
   "source": [
    "logistic = linear_model.LogisticRegression()\n",
    "\n",
    "pca = decomposition.PCA()\n",
    "pipe = Pipeline(steps=[('pca', pca), ('logistic', logistic)])\n",
    "\n",
    "\n",
    "# Plot the PCA spectrum\n",
    "pca.fit(X_train_standard)\n",
    "\n",
    "plt.figure(1, figsize=(4, 3))\n",
    "plt.clf()\n",
    "plt.axes([.2, .2, .7, .7])\n",
    "plt.plot(pca.explained_variance_, linewidth=2)\n",
    "plt.axis('tight')\n",
    "plt.xlabel('n_components')\n",
    "plt.ylabel('explained_variance_')\n",
    "\n",
    "# Prediction\n",
    "n_components = [20, 40, 64]\n",
    "Cs = np.logspace(-4, 4, 3)\n",
    "\n",
    "# Parameters of pipelines can be set using ‘__’ separated parameter names:\n",
    "estimator = GridSearchCV(pipe,\n",
    "                         dict(pca__n_components=n_components,\n",
    "                              logistic__C=Cs))\n",
    "estimator.fit(X_train_standard, y_train)\n",
    "\n",
    "plt.axvline(estimator.best_estimator_.named_steps['pca'].n_components,\n",
    "            linestyle=':', label='n_components chosen')\n",
    "plt.legend(prop=dict(size=12))\n",
    "plt.show()"
   ]
  },
  {
   "cell_type": "code",
   "execution_count": 11,
   "metadata": {},
   "outputs": [
    {
     "data": {
      "text/plain": [
       "40"
      ]
     },
     "execution_count": 11,
     "metadata": {},
     "output_type": "execute_result"
    }
   ],
   "source": [
    "estimator.best_estimator_.named_steps['pca'].n_components"
   ]
  },
  {
   "cell_type": "code",
   "execution_count": 14,
   "metadata": {
    "scrolled": true
   },
   "outputs": [
    {
     "data": {
      "text/plain": [
       "Pipeline(steps=[('pca', PCA(copy=True, iterated_power='auto', n_components=40, random_state=None,\n",
       "  svd_solver='auto', tol=0.0, whiten=False)), ('logistic', LogisticRegression(C=1.0, class_weight=None, dual=False, fit_intercept=True,\n",
       "          intercept_scaling=1, max_iter=100, multi_class='ovr', n_jobs=1,\n",
       "          penalty='l2', random_state=None, solver='liblinear', tol=0.0001,\n",
       "          verbose=0, warm_start=False))])"
      ]
     },
     "execution_count": 14,
     "metadata": {},
     "output_type": "execute_result"
    }
   ],
   "source": [
    "estimator.best_estimator_"
   ]
  },
  {
   "cell_type": "markdown",
   "metadata": {},
   "source": [
    "### Looking at the graph and after multiple iterations I decided to use the first 1500 components of PCA"
   ]
  },
  {
   "cell_type": "code",
   "execution_count": 12,
   "metadata": {
    "collapsed": true
   },
   "outputs": [],
   "source": [
    "pca1 = PCA(n_components=1500)\n",
    "train_features = pca1.fit_transform(X_train_standard)"
   ]
  },
  {
   "cell_type": "markdown",
   "metadata": {},
   "source": [
    "### Plot to see if the first 2 components of PCA discriminate the data or not"
   ]
  },
  {
   "cell_type": "code",
   "execution_count": 29,
   "metadata": {
    "scrolled": false
   },
   "outputs": [
    {
     "data": {
      "text/plain": [
       "<matplotlib.text.Text at 0x1f8a8e9d470>"
      ]
     },
     "execution_count": 29,
     "metadata": {},
     "output_type": "execute_result"
    },
    {
     "data": {
      "image/png": "[encoded data removed]",
      "text/plain": [
       "<matplotlib.figure.Figure at 0x1f899105ef0>"
      ]
     },
     "metadata": {},
     "output_type": "display_data"
    }
   ],
   "source": [
    "# Perform a PCA to further visualize the distribution of training data and classes\n",
    "# from sklearn.decomposition import PCA\n",
    "\n",
    "red = y_train==1\n",
    "green = y_train==0\n",
    "\n",
    "fig = plt.figure()\n",
    "fig.set_figheight(6)\n",
    "fig.set_figwidth(8)\n",
    "ax = fig.add_subplot(1, 1, 1)\n",
    "ax.scatter(train_features[red, 0], train_features[red, 1], c='r', s=8)\n",
    "ax.scatter(train_features[green, 0], train_features[green, 1], c='g', s=8)\n",
    "ax.axis('tight')\n",
    "ax.legend(['DM', 'Normal'])\n",
    "ax.set_xlabel('Component 1')\n",
    "ax.set_ylabel('Component 2')"
   ]
  },
  {
   "cell_type": "markdown",
   "metadata": {},
   "source": [
    "### There dosen't seem to be much separation between the first two components. I believe including the entire dataset will improve performance"
   ]
  },
  {
   "cell_type": "markdown",
   "metadata": {},
   "source": [
    "# 3. Model selection/tuning"
   ]
  },
  {
   "cell_type": "markdown",
   "metadata": {},
   "source": [
    "### Find the best parameters for logistic regression on PCA transformed data"
   ]
  },
  {
   "cell_type": "code",
   "execution_count": 17,
   "metadata": {},
   "outputs": [
    {
     "name": "stdout",
     "output_type": "stream",
     "text": [
      "Tuned Logistic Regression Parameters: {'C': 163789.3706954068}\n",
      "Best score is 0.9258193645233925\n"
     ]
    }
   ],
   "source": [
    "# Setup the hyperparameter grid, (not scaled data)\n",
    "param_grid = {'C': np.logspace(-5, 8, 15)}\n",
    "\n",
    "# Instantiate a logistic regression classifier: logreg\n",
    "logreg = LogisticRegression()\n",
    "\n",
    "# Instantiate the GridSearchCV object: logreg_cv\n",
    "logreg_cv = GridSearchCV(logreg,param_grid , cv=5)\n",
    "\n",
    "\n",
    "# Fit it to the data\n",
    "logreg_cv.fit(train_features, y_train)\n",
    "\n",
    "# Print the tuned parameters and score\n",
    "print(\"Tuned Logistic Regression Parameters: {}\".format(logreg_cv.best_params_)) \n",
    "print(\"Best score is {}\".format(logreg_cv.best_score_))"
   ]
  },
  {
   "cell_type": "markdown",
   "metadata": {},
   "source": [
    "# 4. Model performance evaluation (i.e how well it does along the metrics above)"
   ]
  },
  {
   "cell_type": "markdown",
   "metadata": {},
   "source": [
    "### Training accuracy is 92.58%"
   ]
  },
  {
   "cell_type": "code",
   "execution_count": 21,
   "metadata": {
    "collapsed": true
   },
   "outputs": [],
   "source": [
    "X_test_standard = scaler.fit_transform(X_test)\n",
    "test_features = pca1.fit_transform(X_test_standard)\n",
    "class_pred = logreg_cv.predict(test_features)"
   ]
  },
  {
   "cell_type": "code",
   "execution_count": 23,
   "metadata": {},
   "outputs": [
    {
     "name": "stdout",
     "output_type": "stream",
     "text": [
      "Testing accuracy is:  0.833916958479\n"
     ]
    }
   ],
   "source": [
    "print(\"Testing accuracy is: \", accuracy_score(y_test, class_pred))"
   ]
  },
  {
   "cell_type": "markdown",
   "metadata": {},
   "source": [
    "### Testing accuracy is 83.39%"
   ]
  },
  {
   "cell_type": "markdown",
   "metadata": {},
   "source": [
    "## Plot of confusion matrix for misclassifications"
   ]
  },
  {
   "cell_type": "code",
   "execution_count": 24,
   "metadata": {
    "scrolled": true
   },
   "outputs": [
    {
     "data": {
      "text/plain": [
       "<matplotlib.text.Text at 0x1f8950a00f0>"
      ]
     },
     "execution_count": 24,
     "metadata": {},
     "output_type": "execute_result"
    },
    {
     "data": {
      "image/png": "[encoded data removed]",
      "text/plain": [
       "<matplotlib.figure.Figure at 0x1f8cb73ed30>"
      ]
     },
     "metadata": {},
     "output_type": "display_data"
    }
   ],
   "source": [
    "\n",
    "from sklearn.metrics import confusion_matrix\n",
    "import itertools\n",
    "cnf_mat = confusion_matrix(y_test, class_pred)\n",
    "\n",
    "# Plot out\n",
    "plt.figure()\n",
    "plt.imshow(cnf_mat, interpolation='nearest', cmap=plt.cm.Blues)\n",
    "plt.title(\"Confusion Matrix for Logistic Regression\")\n",
    "plt.colorbar()\n",
    "classNames = ['noDM', 'DM']\n",
    "tick_marks = np.arange(len(classNames))\n",
    "plt.xticks(tick_marks, classNames, rotation=45)\n",
    "plt.yticks(tick_marks, classNames)\n",
    "\n",
    "# Generate text showing the number of correctly and mis-classified samples in each cell\n",
    "fmt = 'd'\n",
    "thresh = cnf_mat.max() / 2.\n",
    "for i, j in itertools.product(range(cnf_mat.shape[0]), range(cnf_mat.shape[1])):\n",
    "    plt.text(j, i, format(cnf_mat[i, j], fmt),\n",
    "             horizontalalignment=\"center\",\n",
    "             color=\"white\" if cnf_mat[i, j] > thresh else \"black\")\n",
    "plt.ylabel('True label')\n",
    "plt.xlabel('Predicted label')"
   ]
  },
  {
   "cell_type": "markdown",
   "metadata": {},
   "source": [
    "## ROC curve"
   ]
  },
  {
   "cell_type": "code",
   "execution_count": 28,
   "metadata": {
    "scrolled": true
   },
   "outputs": [
    {
     "data": {
      "image/png": "[encoded data removed]",
      "text/plain": [
       "<matplotlib.figure.Figure at 0x1f8c8048780>"
      ]
     },
     "metadata": {},
     "output_type": "display_data"
    }
   ],
   "source": [
    "preds = logreg_cv.predict_proba(test_features)[:,1]\n",
    "\n",
    "y_test[y_test==0]= 0\n",
    "y_test[y_test==1]= 1\n",
    "class_pred[y_test==0]= 0\n",
    "class_pred[y_test==1]= 1\n",
    "\n",
    "fpr, tpr, _ = roc_curve(y_test, class_pred)\n",
    "roc_auc = auc(fpr, tpr)\n",
    "\n",
    "# Plot the ROC curve\n",
    "plt.figure()\n",
    "plt.plot(fpr, tpr, color='darkorange', lw=2, \n",
    "         label=\"ROC Curve (area=%0.2f)\" % roc_auc)\n",
    "plt.plot([0, 1], [0, 1], color='navy', lw=2, linestyle='--')\n",
    "plt.xlim([0.0, 1.0])\n",
    "plt.ylim([0.0, 1.05])\n",
    "plt.xlabel('False Positive Rate')\n",
    "plt.ylabel('True Positive Rate')\n",
    "plt.title('Receiver operating characteristic for logistic regression')\n",
    "plt.legend(loc=\"lower right\")\n",
    "plt.show()"
   ]
  },
  {
   "cell_type": "markdown",
   "metadata": {},
   "source": [
    "# 5. A short write-up (2-3 paragraph) of your approach."
   ]
  },
  {
   "cell_type": "markdown",
   "metadata": {},
   "source": [
    "### The classifier does not perform well. I had tried Random Forest too with and without PCA they all give similar results. Very high accuracy but poor precision and recall metrics"
   ]
  },
  {
   "cell_type": "markdown",
   "metadata": {},
   "source": [
    "### Ideally I would like to reduce the feature vectors by removing redundant information between ICD9, ICD 10 and CPT codes. Also I would group or remove redundant and irrelevant laboratory test results which should improve the performance of the predictions. However I am limited by what I can do within hardware and resource constraints."
   ]
  },
  {
   "cell_type": "code",
   "execution_count": null,
   "metadata": {
    "collapsed": true
   },
   "outputs": [],
   "source": []
  },
  {
   "cell_type": "code",
   "execution_count": null,
   "metadata": {
    "collapsed": true
   },
   "outputs": [],
   "source": []
  }
 ],
 "metadata": {
  "kernelspec": {
   "display_name": "Python 3",
   "language": "python",
   "name": "python3"
  },
  "language_info": {
   "codemirror_mode": {
    "name": "ipython",
    "version": 3
   },
   "file_extension": ".py",
   "mimetype": "text/x-python",
   "name": "python",
   "nbconvert_exporter": "python",
   "pygments_lexer": "ipython3",
   "version": "3.6.1"
  }
 },
 "nbformat": 4,
 "nbformat_minor": 2
}
